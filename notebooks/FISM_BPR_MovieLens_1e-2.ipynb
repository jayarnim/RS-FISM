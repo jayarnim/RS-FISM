{
 "cells": [
  {
   "cell_type": "markdown",
   "id": "613e2bd6",
   "metadata": {},
   "source": [
    "# Constants"
   ]
  },
  {
   "cell_type": "code",
   "execution_count": null,
   "id": "d60ab310",
   "metadata": {},
   "outputs": [],
   "source": [
    "WORK_DIR_PATH = \"..\"\n",
    "MODEL_NAME = \"FISM_BPR_MovieLens_1e-2\"\n",
    "\n",
    "# Split\n",
    "FILTER_BY = \"user\"\n",
    "TRN_VAL_TST_RATIO = [0.8, 0.1, 0.1]\n",
    "TRN_NEG_PER_POS_RATIO = 1\n",
    "TST_NEG_PER_POS_RATIO = 100\n",
    "NEG_PER_POS_RATIO = [TRN_NEG_PER_POS_RATIO, TRN_NEG_PER_POS_RATIO, TST_NEG_PER_POS_RATIO, TST_NEG_PER_POS_RATIO]\n",
    "TRN_BATCH_SIZE = 128\n",
    "TST_BATCH_SIZE = 5\n",
    "BATCH_SIZE = [TRN_BATCH_SIZE, TRN_BATCH_SIZE, TST_BATCH_SIZE, TST_BATCH_SIZE]\n",
    "CURRICULUM = True\n",
    "N_PHASES = 10\n",
    "MAX_HIST = None\n",
    "\n",
    "# Model\n",
    "N_FACTORS = 32\n",
    "ALPHA = 0.5\n",
    "\n",
    "# How to Learn\n",
    "TASK_TYPE = 'bpr'\n",
    "LEARNING_RATE = 1e-4\n",
    "LAMBDA_ = 1e-2\n",
    "\n",
    "# Fit\n",
    "N_EPOCHS = 1000\n",
    "METRIC = 'ndcg'\n",
    "INTERVAL = 10\n",
    "PATIENCE = 10\n",
    "DELTA = 1e-3"
   ]
  },
  {
   "cell_type": "markdown",
   "id": "f9f08c36",
   "metadata": {},
   "source": [
    "# Config"
   ]
  },
  {
   "cell_type": "code",
   "execution_count": 2,
   "id": "14a218e0",
   "metadata": {},
   "outputs": [
    {
     "name": "stdout",
     "output_type": "stream",
     "text": [
      "DIRECTORY: c:\\Users\\jayar\\Desktop\\바탕 화면\\DEGREE\\repo\n"
     ]
    }
   ],
   "source": [
    "import warnings\n",
    "warnings.filterwarnings(\"ignore\")\n",
    "\n",
    "import os\n",
    "os.environ[\"CUDA_LAUNCH_BLOCKING\"] = \"1\"\n",
    "os.chdir(WORK_DIR_PATH)\n",
    "print(f\"DIRECTORY: {os.getcwd()}\")"
   ]
  },
  {
   "cell_type": "code",
   "execution_count": null,
   "id": "2f4ba2b9",
   "metadata": {},
   "outputs": [],
   "source": [
    "import pandas as pd\n",
    "import torch"
   ]
  },
  {
   "cell_type": "code",
   "execution_count": null,
   "id": "851631e1",
   "metadata": {},
   "outputs": [],
   "source": [
    "from FISM import fism, loop\n",
    "from MYUTILS import (\n",
    "    ranking,\n",
    "    utils,\n",
    ")\n",
    "from MYUTILS.config.constants import (\n",
    "    DEFAULT_USER_COL,\n",
    "    DEFAULT_ITEM_COL,\n",
    "    DEFAULT_RATING_COL,\n",
    "    DEFAULT_LABEL_COL,\n",
    "    DEFAULT_TIMESTAMP_COL,\n",
    "    DEFAULT_PREDICTION_COL,\n",
    "    DEFAULT_K,\n",
    "    SEED,\n",
    ")"
   ]
  },
  {
   "cell_type": "code",
   "execution_count": 5,
   "id": "9a53ddac",
   "metadata": {},
   "outputs": [
    {
     "name": "stdout",
     "output_type": "stream",
     "text": [
      "SETTING ALL SEEDS TO 42...\n",
      "ALL SEEDS SET\n"
     ]
    }
   ],
   "source": [
    "# Seed\n",
    "utils.seed.reset(SEED)"
   ]
  },
  {
   "cell_type": "code",
   "execution_count": 6,
   "id": "97ae7b90",
   "metadata": {},
   "outputs": [
    {
     "name": "stdout",
     "output_type": "stream",
     "text": [
      "cuda\n"
     ]
    }
   ],
   "source": [
    "# Available GPU\n",
    "device = torch.device(\"cuda\" if torch.cuda.is_available() else \"cpu\")\n",
    "print(device)"
   ]
  },
  {
   "cell_type": "markdown",
   "id": "0b47285f",
   "metadata": {},
   "source": [
    "# Data Preparation"
   ]
  },
  {
   "cell_type": "code",
   "execution_count": 7,
   "id": "ed5d6be4",
   "metadata": {},
   "outputs": [],
   "source": [
    "# Upload Data\n",
    "DATA_NAME = \"ml-100k.csv\"\n",
    "DATA_PATH = f\"./data/{DATA_NAME}\"\n",
    "data = pd.read_csv(DATA_PATH)"
   ]
  },
  {
   "cell_type": "code",
   "execution_count": 8,
   "id": "a3d2b14e",
   "metadata": {},
   "outputs": [],
   "source": [
    "# Columns\n",
    "kwargs = dict(\n",
    "    col_user='userId', \n",
    "    col_item='movieId', \n",
    "    col_rating='rating',\n",
    "    col_timestamp='timestamp'\n",
    ")\n",
    "\n",
    "data = utils.data.rename_columns(data, **kwargs)\n",
    "\n",
    "\n",
    "# Label encoding\n",
    "kwargs = dict(\n",
    "    data=data, \n",
    "    col_user=DEFAULT_USER_COL, \n",
    "    col_item=DEFAULT_ITEM_COL,\n",
    ")\n",
    "\n",
    "data, user_label, item_label = utils.data.label_encoding(**kwargs)\n",
    "\n",
    "\n",
    "# Number of user, item\n",
    "N_USERS = data[DEFAULT_USER_COL].nunique()\n",
    "N_ITEMS = data[DEFAULT_ITEM_COL].nunique()"
   ]
  },
  {
   "cell_type": "code",
   "execution_count": 9,
   "id": "483c1f75",
   "metadata": {},
   "outputs": [
    {
     "name": "stdout",
     "output_type": "stream",
     "text": [
      "number of user: 610\n",
      "number of item: 9724\n",
      "total interaction: 100836\n",
      "interaction density: 1.7000 %\n",
      "max interaction of user: 2698\n",
      "top 10.0 % interaction of user: 400.3\n",
      "mean interaction of user: 165\n",
      "mean interaction of item: 10\n"
     ]
    }
   ],
   "source": [
    "# data Description\n",
    "utils.data.description(data)"
   ]
  },
  {
   "cell_type": "code",
   "execution_count": null,
   "id": "8c668a94",
   "metadata": {},
   "outputs": [],
   "source": [
    "kwargs = dict(\n",
    "    data=data,\n",
    "    n_users=N_USERS,\n",
    "    n_items=N_ITEMS,\n",
    "    col_user=DEFAULT_USER_COL,\n",
    "    col_item=DEFAULT_ITEM_COL,\n",
    "    curriculum=CURRICULUM,\n",
    "    n_phases=N_PHASES,\n",
    ")\n",
    "\n",
    "dataloader = ranking.trn_val_tst.Module(**kwargs)\n",
    "\n",
    "kwargs = dict(\n",
    "    filter_by=FILTER_BY,\n",
    "    trn_val_tst_ratio=TRN_VAL_TST_RATIO,\n",
    "    neg_per_pos=NEG_PER_POS_RATIO,\n",
    "    batch_size=BATCH_SIZE,\n",
    "    max_hist=MAX_HIST,\n",
    "    seed=SEED,\n",
    "    )\n",
    "\n",
    "loaders, histories, interactions = dataloader.get(**kwargs)\n",
    "trn_loader, val_loader, tst_loader, loo_loader = loaders"
   ]
  },
  {
   "cell_type": "markdown",
   "id": "eaaa126a",
   "metadata": {},
   "source": [
    "# Modeling"
   ]
  },
  {
   "cell_type": "code",
   "execution_count": null,
   "id": "56d340e9",
   "metadata": {},
   "outputs": [],
   "source": [
    "kwargs = dict(\n",
    "    n_users=N_USERS,\n",
    "    n_items=N_ITEMS,\n",
    "    n_factors=N_FACTORS,\n",
    "    alpha=ALPHA,\n",
    "    trn_pos_per_user=histories,\n",
    ")\n",
    "\n",
    "model = fism.model.Module(**kwargs)"
   ]
  },
  {
   "cell_type": "code",
   "execution_count": null,
   "id": "92aec85d",
   "metadata": {},
   "outputs": [],
   "source": [
    "kwargs = dict(\n",
    "    model=model,\n",
    "    trn_neg_per_pos_ratio=TRN_NEG_PER_POS_RATIO,\n",
    "    task_type=TASK_TYPE,\n",
    "    lr=LEARNING_RATE,\n",
    "    lambda_=LAMBDA_,\n",
    ")\n",
    "\n",
    "trainer = loop.trainer.Module(**kwargs)"
   ]
  },
  {
   "cell_type": "markdown",
   "id": "ee78f187",
   "metadata": {},
   "source": [
    "# Train"
   ]
  },
  {
   "cell_type": "code",
   "execution_count": null,
   "id": "3e4de17a",
   "metadata": {},
   "outputs": [
    {
     "name": "stdout",
     "output_type": "stream",
     "text": [
      "LEAVE ONE OUT BEST EPOCH: 221\n",
      "LEAVE ONE OUT BEST SCORE: 0.4786\n"
     ]
    }
   ],
   "source": [
    "kwargs = dict(\n",
    "    trn_loader=trn_loader,\n",
    "    val_loader=val_loader,\n",
    "    loo_loader=loo_loader,\n",
    "    n_epochs=N_EPOCHS,\n",
    "    metric=METRIC,\n",
    "    interval=INTERVAL,\n",
    "    patience=PATIENCE,\n",
    "    delta=DELTA,\n",
    ")\n",
    "\n",
    "history = trainer.fit(**kwargs)"
   ]
  },
  {
   "cell_type": "code",
   "execution_count": null,
   "id": "0dde1ad9",
   "metadata": {},
   "outputs": [
    {
     "data": {
      "image/png": "[encoded data removed]",
      "text/plain": [
       "<Figure size 800x500 with 1 Axes>"
      ]
     },
     "metadata": {},
     "output_type": "display_data"
    }
   ],
   "source": [
    "utils.visualizer.plot_loss(history, 'TASK LOSS')"
   ]
  },
  {
   "cell_type": "markdown",
   "id": "98b20720",
   "metadata": {},
   "source": [
    "# Test"
   ]
  },
  {
   "cell_type": "code",
   "execution_count": 15,
   "id": "8924ad2e",
   "metadata": {},
   "outputs": [],
   "source": [
    "TRUE_COL_LIST = [DEFAULT_USER_COL, DEFAULT_ITEM_COL, DEFAULT_LABEL_COL]\n",
    "PRED_COL_LIST = [DEFAULT_USER_COL, DEFAULT_ITEM_COL, DEFAULT_PREDICTION_COL]"
   ]
  },
  {
   "cell_type": "code",
   "execution_count": null,
   "id": "8e86a5a9",
   "metadata": {},
   "outputs": [
    {
     "name": "stderr",
     "output_type": "stream",
     "text": [
      "TST: 100%|██████████| 2009/2009 [00:07<00:00, 280.72it/s]\n"
     ]
    }
   ],
   "source": [
    "kwargs = dict(\n",
    "    model=model,\n",
    "    tst_loader=tst_loader,\n",
    ")\n",
    "\n",
    "result = loop.predictor.predict(**kwargs)"
   ]
  },
  {
   "cell_type": "code",
   "execution_count": 17,
   "id": "f38cd63a",
   "metadata": {},
   "outputs": [
    {
     "data": {
      "text/html": [
       "<div>\n",
       "<style scoped>\n",
       "    .dataframe tbody tr th:only-of-type {\n",
       "        vertical-align: middle;\n",
       "    }\n",
       "\n",
       "    .dataframe tbody tr th {\n",
       "        vertical-align: top;\n",
       "    }\n",
       "\n",
       "    .dataframe thead th {\n",
       "        text-align: right;\n",
       "    }\n",
       "</style>\n",
       "<table border=\"1\" class=\"dataframe\">\n",
       "  <thead>\n",
       "    <tr style=\"text-align: right;\">\n",
       "      <th></th>\n",
       "      <th>top_k</th>\n",
       "      <th>hit_ratio</th>\n",
       "      <th>precision</th>\n",
       "      <th>recall</th>\n",
       "      <th>map</th>\n",
       "      <th>ndcg</th>\n",
       "    </tr>\n",
       "  </thead>\n",
       "  <tbody>\n",
       "    <tr>\n",
       "      <th>0</th>\n",
       "      <td>5</td>\n",
       "      <td>0.755738</td>\n",
       "      <td>0.280984</td>\n",
       "      <td>0.216729</td>\n",
       "      <td>0.148848</td>\n",
       "      <td>0.337055</td>\n",
       "    </tr>\n",
       "    <tr>\n",
       "      <th>1</th>\n",
       "      <td>10</td>\n",
       "      <td>0.867213</td>\n",
       "      <td>0.221311</td>\n",
       "      <td>0.315283</td>\n",
       "      <td>0.180293</td>\n",
       "      <td>0.349271</td>\n",
       "    </tr>\n",
       "    <tr>\n",
       "      <th>2</th>\n",
       "      <td>15</td>\n",
       "      <td>0.921311</td>\n",
       "      <td>0.188087</td>\n",
       "      <td>0.376976</td>\n",
       "      <td>0.194292</td>\n",
       "      <td>0.362836</td>\n",
       "    </tr>\n",
       "    <tr>\n",
       "      <th>3</th>\n",
       "      <td>20</td>\n",
       "      <td>0.957377</td>\n",
       "      <td>0.167131</td>\n",
       "      <td>0.438518</td>\n",
       "      <td>0.205559</td>\n",
       "      <td>0.378508</td>\n",
       "    </tr>\n",
       "    <tr>\n",
       "      <th>4</th>\n",
       "      <td>50</td>\n",
       "      <td>0.996721</td>\n",
       "      <td>0.107508</td>\n",
       "      <td>0.606152</td>\n",
       "      <td>0.229496</td>\n",
       "      <td>0.426751</td>\n",
       "    </tr>\n",
       "    <tr>\n",
       "      <th>5</th>\n",
       "      <td>100</td>\n",
       "      <td>0.998361</td>\n",
       "      <td>0.073148</td>\n",
       "      <td>0.728442</td>\n",
       "      <td>0.241967</td>\n",
       "      <td>0.467040</td>\n",
       "    </tr>\n",
       "  </tbody>\n",
       "</table>\n",
       "</div>"
      ],
      "text/plain": [
       "   top_k  hit_ratio  precision    recall       map      ndcg\n",
       "0      5   0.755738   0.280984  0.216729  0.148848  0.337055\n",
       "1     10   0.867213   0.221311  0.315283  0.180293  0.349271\n",
       "2     15   0.921311   0.188087  0.376976  0.194292  0.362836\n",
       "3     20   0.957377   0.167131  0.438518  0.205559  0.378508\n",
       "4     50   0.996721   0.107508  0.606152  0.229496  0.426751\n",
       "5    100   0.998361   0.073148  0.728442  0.241967  0.467040"
      ]
     },
     "execution_count": 17,
     "metadata": {},
     "output_type": "execute_result"
    }
   ],
   "source": [
    "top_k_list = [5, 10, 15, 20, 50, 100]\n",
    "eval_list = []\n",
    "\n",
    "for TOP_K in top_k_list:\n",
    "    kwargs = dict(\n",
    "        rating_true=result[TRUE_COL_LIST],\n",
    "        rating_pred=result[PRED_COL_LIST],\n",
    "        k=TOP_K,\n",
    "    )\n",
    "    eval = ranking.metrics.eval_top_k(**kwargs)\n",
    "    eval_list.append(eval)\n",
    "\n",
    "eval_df = pd.DataFrame(eval_list)\n",
    "eval_df"
   ]
  },
  {
   "cell_type": "markdown",
   "id": "553ca1ce",
   "metadata": {},
   "source": [
    "# Save"
   ]
  },
  {
   "cell_type": "code",
   "execution_count": null,
   "id": "5ecaac76",
   "metadata": {},
   "outputs": [],
   "source": [
    "PATH = f'./checkpoints/{MODEL_NAME}.pth'\n",
    "\n",
    "kwargs = dict(\n",
    "    model=model, \n",
    "    path=PATH,\n",
    ")\n",
    "\n",
    "utils.checkpoint.save(**kwargs)"
   ]
  }
 ],
 "metadata": {
  "kernelspec": {
   "display_name": "Python 3",
   "language": "python",
   "name": "python3"
  },
  "language_info": {
   "codemirror_mode": {
    "name": "ipython",
    "version": 3
   },
   "file_extension": ".py",
   "mimetype": "text/x-python",
   "name": "python",
   "nbconvert_exporter": "python",
   "pygments_lexer": "ipython3",
   "version": "3.11.5"
  }
 },
 "nbformat": 4,
 "nbformat_minor": 5
}
